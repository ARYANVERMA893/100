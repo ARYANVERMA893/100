{
 "cells": [
  {
   "cell_type": "markdown",
   "id": "1d3dfe93",
   "metadata": {},
   "source": [
    "# 1.find_smallest_number\n"
   ]
  },
  {
   "cell_type": "code",
   "execution_count": 2,
   "id": "179fecf3",
   "metadata": {},
   "outputs": [
    {
     "name": "stdout",
     "output_type": "stream",
     "text": [
      "The smallest number in the array is: 1\n"
     ]
    }
   ],
   "source": [
    "def find_smallest_number(arr):\n",
    "    if len(arr) == 0:\n",
    "        return None  # Return None if the array is empty\n",
    "    else:\n",
    "        smallest = arr[0]  # Assume the first element is the smallest\n",
    "        for num in arr[1:]:  # Iterate over the array starting from the second element\n",
    "            if num < smallest:  # If the current number is smaller than the assumed smallest\n",
    "                smallest = num  # Update the smallest number\n",
    "        return smallest\n",
    "\n",
    "# Example usage:\n",
    "array = [5, 3, 9, 1, 7]\n",
    "smallest_number = find_smallest_number(array)\n",
    "print(\"The smallest number in the array is:\", smallest_number)\n"
   ]
  },
  {
   "cell_type": "markdown",
   "id": "872bb805",
   "metadata": {},
   "source": [
    "# 2.find_largest_number"
   ]
  },
  {
   "cell_type": "code",
   "execution_count": 3,
   "id": "3865f951",
   "metadata": {},
   "outputs": [
    {
     "name": "stdout",
     "output_type": "stream",
     "text": [
      "17\n"
     ]
    }
   ],
   "source": [
    "def largest(arr):\n",
    "    if len(arr)== 0:\n",
    "        return -1\n",
    "    else:\n",
    "        largest= arr[0]\n",
    "        for i in arr:\n",
    "            if i > largest:\n",
    "                largest = i\n",
    "        return largest\n",
    "array=[1,9,7,5,17]\n",
    "lar=largest(array)\n",
    "print(lar)"
   ]
  },
  {
   "cell_type": "markdown",
   "id": "04e5991a",
   "metadata": {},
   "source": [
    "# finding 2nd largest"
   ]
  },
  {
   "cell_type": "code",
   "execution_count": 4,
   "id": "358a5dd2",
   "metadata": {},
   "outputs": [
    {
     "name": "stdout",
     "output_type": "stream",
     "text": [
      "The second largest number in the array is: 7\n"
     ]
    }
   ],
   "source": [
    "def find_second_largest(arr):\n",
    "    if len(arr) < 2:\n",
    "        return None  # If array has less than 2 elements, there's no second largest\n",
    "    \n",
    "    largest=second_largest=float('-inf')\n",
    "    # Initialize the largest and second largest\n",
    "    \n",
    "    for num in arr:\n",
    "        if num > largest:\n",
    "            second_largest = largest\n",
    "            largest = num\n",
    "        elif num > second_largest and num != largest:\n",
    "            second_largest = num\n",
    "\n",
    "#     if second_largest == float('-inf') or largest == second_largest:\n",
    "#         return None  # If all elements are the same or if there's only one distinct element, return None\n",
    "    \n",
    "    return second_largest\n",
    "\n",
    "# Example usage:\n",
    "array = [5, 3, 9, 1, 7]\n",
    "second_largest_number = find_second_largest(array)\n",
    "print(\"The second largest number in the array is:\", second_largest_number)\n"
   ]
  },
  {
   "cell_type": "markdown",
   "id": "fa0c397c",
   "metadata": {},
   "source": [
    "float('-inf'): This part creates a floating-point value representing negative infinity in Python.\n",
    "\n",
    "Both largest and second_largest variables hold the value of negative infinity (-∞).\n",
    "This means that any real number encountered in the array will be greater than or equal to these initial values.\n",
    "By initializing them with negative infinity, the code ensures that any actual number in the array will be greater than these initial values. This sets up a baseline for comparison during subsequent iterations, allowing the algorithm to correctly identify the largest and second largest elements in the array.\n"
   ]
  },
  {
   "cell_type": "markdown",
   "id": "857c8f71",
   "metadata": {},
   "source": [
    "# finding 2nd smallest"
   ]
  },
  {
   "cell_type": "code",
   "execution_count": 5,
   "id": "c00d9e7a",
   "metadata": {},
   "outputs": [
    {
     "data": {
      "text/plain": [
       "2"
      ]
     },
     "execution_count": 5,
     "metadata": {},
     "output_type": "execute_result"
    }
   ],
   "source": [
    "def secondsmallest(arr):\n",
    "    smallest=second_smallest= float('inf')\n",
    "    for i in arr:\n",
    "        if i < smallest:\n",
    "            second_smallest=smallest\n",
    "            smallest=i\n",
    "        elif i < second_smallest and i is not smallest:\n",
    "            second_smallest=i\n",
    "    return second_smallest\n",
    "\n",
    "a=[1,2,3,4]\n",
    "s=secondsmallest(a)\n",
    "s"
   ]
  },
  {
   "cell_type": "markdown",
   "id": "59cb5294",
   "metadata": {},
   "source": [
    "# reverse an array"
   ]
  },
  {
   "cell_type": "code",
   "execution_count": 6,
   "id": "2146f548",
   "metadata": {},
   "outputs": [
    {
     "data": {
      "text/plain": [
       "[3, 2, 1]"
      ]
     },
     "execution_count": 6,
     "metadata": {},
     "output_type": "execute_result"
    }
   ],
   "source": [
    "a=[1,2,3]\n",
    "a=a[::-1]\n",
    "a"
   ]
  },
  {
   "cell_type": "code",
   "execution_count": 7,
   "id": "bd4473f2",
   "metadata": {},
   "outputs": [
    {
     "name": "stdout",
     "output_type": "stream",
     "text": [
      "Reversed array: [5, 4, 3, 2, 1]\n"
     ]
    }
   ],
   "source": [
    "def reverse_array(arr):\n",
    "    n = len(arr)\n",
    "    for i in range(n // 2):\n",
    "        arr[i], arr[n - 1 - i] = arr[n - 1 - i], arr[i]\n",
    "    return arr\n",
    "\n",
    "# Example usage:\n",
    "arr = [1, 2, 3, 4, 5]\n",
    "reversed_arr = reverse_array(arr)\n",
    "print(\"Reversed array:\", reversed_arr)\n"
   ]
  },
  {
   "cell_type": "markdown",
   "id": "4d886624",
   "metadata": {},
   "source": [
    "# frequency"
   ]
  },
  {
   "cell_type": "code",
   "execution_count": 8,
   "id": "3e717bd9",
   "metadata": {},
   "outputs": [
    {
     "name": "stdout",
     "output_type": "stream",
     "text": [
      "Frequency of each element in the array:\n",
      "1 : 1\n",
      "2 : 2\n",
      "3 : 3\n",
      "4 : 4\n"
     ]
    }
   ],
   "source": [
    "def count_frequency(arr):\n",
    "    frequency = {}\n",
    "    for element in arr:\n",
    "        if element in frequency:\n",
    "            frequency[element] += 1\n",
    "        else:\n",
    "            frequency[element] = 1\n",
    "    return frequency\n",
    "\n",
    "# Example usage:\n",
    "array = [1, 2, 2, 3, 3, 3, 4, 4, 4, 4]\n",
    "frequency = count_frequency(array)\n",
    "print(\"Frequency of each element in the array:\")\n",
    "for key, value in frequency.items():\n",
    "    print(key, \":\", value)\n"
   ]
  },
  {
   "cell_type": "markdown",
   "id": "971ba4c2",
   "metadata": {},
   "source": [
    "# matrix"
   ]
  },
  {
   "cell_type": "code",
   "execution_count": 9,
   "id": "38196e2d",
   "metadata": {},
   "outputs": [
    {
     "name": "stdout",
     "output_type": "stream",
     "text": [
      "Enter the number of rows: 1\n",
      "Enter the number of columns: 2\n",
      "Enter the element at position (1, 1): 1\n",
      "Enter the element at position (1, 2): 2\n",
      "The matrix:\n",
      "[1, 2]\n"
     ]
    }
   ],
   "source": [
    "# Prompting the user to input the number of rows and columns\n",
    "num_rows = int(input(\"Enter the number of rows: \"))\n",
    "num_cols = int(input(\"Enter the number of columns: \"))\n",
    "\n",
    "# Creating an empty matrix\n",
    "\n",
    "matrix = []\n",
    "\n",
    "# Getting input for each cell in the matrix\n",
    "for i in range(num_rows):\n",
    "    row = []  # Initialize an empty list for each row\n",
    "    for j in range(num_cols):\n",
    "        element = int(input(f\"Enter the element at position ({i+1}, {j+1}): \"))\n",
    "        row.append(element)  # Append the element to the row\n",
    "    matrix.append(row)  # Append the row to the matrix\n",
    "\n",
    "# Printing the matrix\n",
    "print(\"The matrix:\")\n",
    "for row in matrix:\n",
    "    print(row)\n"
   ]
  },
  {
   "cell_type": "markdown",
   "id": "0819c4d4",
   "metadata": {},
   "source": [
    "# matrix multiplication"
   ]
  },
  {
   "cell_type": "code",
   "execution_count": 10,
   "id": "a6a61255",
   "metadata": {},
   "outputs": [
    {
     "name": "stdout",
     "output_type": "stream",
     "text": [
      "Result of matrix multiplication:\n",
      "[58, 64]\n",
      "[139, 154]\n"
     ]
    }
   ],
   "source": [
    "def matrix_multiplication(matrix1, matrix2):\n",
    "    # Check if matrices are compatible for multiplication\n",
    "    if len(matrix1[0]) != len(matrix2):\n",
    "        print(\"Matrices are not compatible for multiplication.\")\n",
    "        return None\n",
    "\n",
    "    result = []\n",
    "    for i in range(len(matrix1)):\n",
    "        row = []\n",
    "        for j in range(len(matrix2[0])):\n",
    "            product = 0\n",
    "            for k in range(len(matrix2)):\n",
    "                product += matrix1[i][k] * matrix2[k][j]\n",
    "            row.append(product)\n",
    "        result.append(row)\n",
    "\n",
    "    return result\n",
    "\n",
    "# Example matrices\n",
    "matrix1 = [\n",
    "    [1, 2, 3],\n",
    "    [4, 5, 6],\n",
    "]\n",
    "\n",
    "matrix2 = [\n",
    "    [7, 8],\n",
    "    [9, 10],\n",
    "    [11, 12],\n",
    "]\n",
    "\n",
    "# Perform matrix multiplication\n",
    "result_matrix = matrix_multiplication(matrix1, matrix2)\n",
    "\n",
    "# Print the result\n",
    "if result_matrix:\n",
    "    print(\"Result of matrix multiplication:\")\n",
    "    for row in result_matrix:\n",
    "        print(row)\n"
   ]
  },
  {
   "cell_type": "markdown",
   "id": "99f462eb",
   "metadata": {},
   "source": [
    "# largest element in matrix"
   ]
  },
  {
   "cell_type": "code",
   "execution_count": 11,
   "id": "961bc523",
   "metadata": {},
   "outputs": [
    {
     "name": "stdout",
     "output_type": "stream",
     "text": [
      "The largest element in the matrix is: 9\n"
     ]
    }
   ],
   "source": [
    "def find_largest_element(matrix):\n",
    "    if not matrix:\n",
    "        return None  # Return None if matrix is empty\n",
    "\n",
    "    largest_element = matrix[0][0]  # Assume the first element as the largest\n",
    "\n",
    "    for row in matrix:\n",
    "        for element in row:\n",
    "            if element > largest_element:\n",
    "                largest_element = element\n",
    "\n",
    "    return largest_element\n",
    "\n",
    "# Example matrix\n",
    "matrix = [\n",
    "    [1, 2, 3],\n",
    "    [4, 5, 6],\n",
    "    [7, 8, 9]\n",
    "]\n",
    "\n",
    "# Find the largest element in the matrix\n",
    "largest_element = find_largest_element(matrix)\n",
    "\n",
    "# Print the result\n",
    "print(\"The largest element in the matrix is:\", largest_element)\n"
   ]
  },
  {
   "cell_type": "markdown",
   "id": "91b8603e",
   "metadata": {},
   "source": [
    " # sum of n natural number using recursion\n"
   ]
  },
  {
   "cell_type": "code",
   "execution_count": 12,
   "id": "4fbaf5bd",
   "metadata": {},
   "outputs": [
    {
     "name": "stdout",
     "output_type": "stream",
     "text": [
      "6\n",
      "21\n"
     ]
    }
   ],
   "source": [
    "# sum of n natural number using recursion\n",
    "def getSum(num):\n",
    "    if num == 1:\n",
    "        return 1\n",
    "    return num + getSum(num-1)\n",
    "num=int(input())\n",
    "print(getSum(num))"
   ]
  },
  {
   "cell_type": "markdown",
   "id": "b7ff1b61",
   "metadata": {},
   "source": [
    "# sum_of_array"
   ]
  },
  {
   "cell_type": "code",
   "execution_count": 13,
   "id": "fa28d66b",
   "metadata": {},
   "outputs": [
    {
     "name": "stdout",
     "output_type": "stream",
     "text": [
      "Sum of the elements in the array: 15\n"
     ]
    }
   ],
   "source": [
    "def sum_of_array(arr):\n",
    "    total = 0  # Initialize the total sum to 0\n",
    "    for element in arr:\n",
    "        total += element  # Add each element to the total sum\n",
    "    return total\n",
    "\n",
    "# Example usage:\n",
    "array = [1, 2, 3, 4, 5]\n",
    "result = sum_of_array(array)\n",
    "print(\"Sum of the elements in the array:\", result)\n"
   ]
  },
  {
   "cell_type": "markdown",
   "id": "0d290400",
   "metadata": {},
   "source": [
    "# mediam"
   ]
  },
  {
   "cell_type": "code",
   "execution_count": 14,
   "id": "1da39928",
   "metadata": {},
   "outputs": [
    {
     "name": "stdout",
     "output_type": "stream",
     "text": [
      "Median of the array: 2\n"
     ]
    }
   ],
   "source": [
    "def find_median(arr):\n",
    "    # Sort the array\n",
    "#     arr.sort()\n",
    "\n",
    "    # Check if the length of the array is odd or even\n",
    "    n = len(arr)\n",
    "    if n % 2 == 0:  # If the length is even\n",
    "        mid1 = n // 2\n",
    "        mid2 = mid1 - 1\n",
    "        median = (arr[mid1] + arr[mid2]) / 2\n",
    "    else:  # If the length is odd\n",
    "        mid = n // 2\n",
    "        median = arr[mid]\n",
    "    \n",
    "    return median\n",
    "\n",
    "# Example usage:\n",
    "array = [3, 1, 7, 2, 5, 4, 6]\n",
    "median = find_median(array)\n",
    "print(\"Median of the array:\", median)\n"
   ]
  },
  {
   "cell_type": "markdown",
   "id": "977ad88b",
   "metadata": {},
   "source": [
    "# duplicate from sorted"
   ]
  },
  {
   "cell_type": "code",
   "execution_count": 15,
   "id": "3a7ae363",
   "metadata": {},
   "outputs": [
    {
     "name": "stdout",
     "output_type": "stream",
     "text": [
      "Duplicate elements in the sorted array: [2, 3, 3, 4]\n"
     ]
    }
   ],
   "source": [
    "def find_duplicates(arr):\n",
    "    duplicates = []\n",
    "    n = len(arr)\n",
    "    for i in range(n - 1):  # Iterate through the array until the second last element\n",
    "        if arr[i] == arr[i + 1]:  # Compare the current element with the next one\n",
    "            duplicates.append(arr[i])  # If they are the same, add it to the duplicates list\n",
    "    return duplicates\n",
    "\n",
    "# Example usage:\n",
    "sorted_array = [1, 2, 2, 3, 3, 3, 4, 4, 5]\n",
    "duplicate_elements = find_duplicates(sorted_array)\n",
    "print(\"Duplicate elements in the sorted array:\", duplicate_elements)\n"
   ]
  },
  {
   "cell_type": "code",
   "execution_count": 16,
   "id": "763485d6",
   "metadata": {},
   "outputs": [
    {
     "name": "stdout",
     "output_type": "stream",
     "text": [
      "Unique elements in the sorted array: [1, 2, 3, 4, 5]\n"
     ]
    }
   ],
   "source": [
    "def remove_duplicates(arr):\n",
    "    unique_array = []\n",
    "    n = len(arr)\n",
    "    for i in range(n-1):\n",
    "        if arr[i] != arr[i + 1]:\n",
    "            unique_array.append(arr[i])\n",
    "    # Append the last element (as it will always be unique)\n",
    "    unique_array.append(arr[-1])\n",
    "    return unique_array\n",
    "\n",
    "# Example usage:\n",
    "sorted_array = [1, 2, 2, 3, 3, 3, 4, 4, 5,5]\n",
    "unique_elements = remove_duplicates(sorted_array)\n",
    "print(\"Unique elements in the sorted array:\", unique_elements)\n"
   ]
  },
  {
   "cell_type": "markdown",
   "id": "f68bfe3b",
   "metadata": {},
   "source": [
    "# duplicate unsorted array"
   ]
  },
  {
   "cell_type": "code",
   "execution_count": 17,
   "id": "e47e47ec",
   "metadata": {},
   "outputs": [
    {
     "data": {
      "text/plain": [
       "[1, 2]"
      ]
     },
     "execution_count": 17,
     "metadata": {},
     "output_type": "execute_result"
    }
   ],
   "source": [
    "def duplicate_us(arr):\n",
    "    frequency={}\n",
    "    duplicate=[]\n",
    "    for element in arr:\n",
    "        if element in frequency:\n",
    "            frequency[element] +=1\n",
    "        else:\n",
    "            frequency[element] = 1\n",
    "    for element, count in frequency.items():\n",
    "        if count > 1:\n",
    "            duplicate.append(element)\n",
    "    return duplicate\n",
    "arr=[1,2,1,6,2]\n",
    "d=duplicate_us(arr)\n",
    "d"
   ]
  },
  {
   "cell_type": "markdown",
   "id": "bb6f6c91",
   "metadata": {},
   "source": [
    "# unique array"
   ]
  },
  {
   "cell_type": "code",
   "execution_count": 18,
   "id": "bfed19ea",
   "metadata": {},
   "outputs": [
    {
     "name": "stdout",
     "output_type": "stream",
     "text": [
      "Unique elements: [1, 2, 6]\n"
     ]
    }
   ],
   "source": [
    "def remove_duplicates(arr):\n",
    "    unique_array = []\n",
    "    for element in arr:\n",
    "        if element not in unique_array:\n",
    "            unique_array.append(element)\n",
    "    return unique_array\n",
    "\n",
    "arr = [1, 2, 1, 6, 2]\n",
    "unique_elements = remove_duplicates(arr)\n",
    "print(\"Unique elements:\", unique_elements)\n"
   ]
  },
  {
   "cell_type": "markdown",
   "id": "25fc1867",
   "metadata": {},
   "source": [
    "# Rotate array by K elements : Block Swap Algorithm\n",
    "\n",
    "\n"
   ]
  },
  {
   "cell_type": "code",
   "execution_count": 19,
   "id": "99ba8aea",
   "metadata": {},
   "outputs": [
    {
     "name": "stdout",
     "output_type": "stream",
     "text": [
      "[2, 1, 6, 5, 4, 3]\n"
     ]
    }
   ],
   "source": [
    "def swap(arr, start, end):\n",
    "    while start <= end:\n",
    "        arr[start], arr[end] = arr[end], arr[start]\n",
    "        start += 1\n",
    "        end -= 1\n",
    "\n",
    "def rotate(arr, k):\n",
    "    n = len(arr)\n",
    "    k %= n\n",
    "    if k == 0:\n",
    "        return arr\n",
    "    \n",
    "    swap(arr, 0, k - 1)\n",
    "    swap(arr, k, n - 1)\n",
    "    \n",
    "    return arr\n",
    "\n",
    "arr = [1, 2, 3, 4, 5, 6]\n",
    "k = 2\n",
    "a = rotate(arr, k)\n",
    "print(a)\n"
   ]
  },
  {
   "cell_type": "markdown",
   "id": "5cb18153",
   "metadata": {},
   "source": [
    "# adding an element"
   ]
  },
  {
   "cell_type": "code",
   "execution_count": 20,
   "id": "9a55cf60",
   "metadata": {},
   "outputs": [
    {
     "name": "stdout",
     "output_type": "stream",
     "text": [
      "[1, 2, 3, 4, 5, 6]\n"
     ]
    }
   ],
   "source": [
    "# Initialize an array\n",
    "arr = [1, 2, 3, 4, 5]\n",
    "\n",
    "# Element to add\n",
    "element = 6\n",
    "\n",
    "# Add the element to the end of the array\n",
    "arr += [element]\n",
    "\n",
    "# Print the array after adding the element\n",
    "print(arr)\n"
   ]
  },
  {
   "cell_type": "markdown",
   "id": "3396230e",
   "metadata": {},
   "source": [
    "# average of element"
   ]
  },
  {
   "cell_type": "code",
   "execution_count": 21,
   "id": "894e974c",
   "metadata": {},
   "outputs": [
    {
     "data": {
      "text/plain": [
       "3"
      ]
     },
     "execution_count": 21,
     "metadata": {},
     "output_type": "execute_result"
    }
   ],
   "source": [
    "def average(arr):\n",
    "    n=len(arr)\n",
    "    total=0\n",
    "    for i in arr:\n",
    "        total += i\n",
    "        avg= total/n\n",
    "    return int(avg)\n",
    "arr=[1,2,3,4,5]\n",
    "\n",
    "average(arr)"
   ]
  },
  {
   "cell_type": "markdown",
   "id": "06e13ecc",
   "metadata": {},
   "source": [
    "# non-repeating element"
   ]
  },
  {
   "cell_type": "code",
   "execution_count": 22,
   "id": "48c49f9a",
   "metadata": {},
   "outputs": [
    {
     "name": "stdout",
     "output_type": "stream",
     "text": [
      "[1, 3, 4]\n"
     ]
    }
   ],
   "source": [
    "def non_repating(arr):\n",
    "    frequency={}\n",
    "    non_dup= []\n",
    "    for i in arr:\n",
    "        if i in frequency:\n",
    "            frequency[i] +=1\n",
    "        else:\n",
    "            frequency[i]=1\n",
    "    \n",
    "    for i,count in frequency.items():\n",
    "        if count==1:\n",
    "            non_dup.append(i)\n",
    "    return non_dup\n",
    "arr= [1,2,2,3,4]\n",
    "a=non_repating(arr)\n",
    "print(a)\n",
    "            "
   ]
  },
  {
   "cell_type": "markdown",
   "id": "f770598d",
   "metadata": {},
   "source": [
    "# checks subarray in array"
   ]
  },
  {
   "cell_type": "code",
   "execution_count": 23,
   "id": "9a0d526a",
   "metadata": {},
   "outputs": [
    {
     "data": {
      "text/plain": [
       "True"
      ]
     },
     "execution_count": 23,
     "metadata": {},
     "output_type": "execute_result"
    }
   ],
   "source": [
    "def check_subarray(arr1,arr2):\n",
    "    for element in arr1:\n",
    "        if element not in arr2:\n",
    "            return False\n",
    "    return True\n",
    "a=[1,2,3]\n",
    "b=[1,2,3,4,5]\n",
    "check_subarray(a,b)\n",
    "    "
   ]
  },
  {
   "cell_type": "markdown",
   "id": "d921c6d1",
   "metadata": {},
   "source": [
    "# find_symmetric_pairs"
   ]
  },
  {
   "cell_type": "markdown",
   "id": "9c4b7700",
   "metadata": {},
   "source": [
    "Symmetric pairs are pairs of elements where the order of the elements does not matter. In other words, if you have a pair (a, b), then (b, a) is also considered a symmetric pair."
   ]
  },
  {
   "cell_type": "code",
   "execution_count": 24,
   "id": "ed968559",
   "metadata": {},
   "outputs": [
    {
     "name": "stdout",
     "output_type": "stream",
     "text": [
      "[(2, 1), (4, 3)]\n"
     ]
    }
   ],
   "source": [
    "def find_symmetric_pairs(arr):\n",
    "    symetric=[]\n",
    "    seen=set()\n",
    "    for pair in arr:\n",
    "        reversed_pair=(pair[1],pair[0])\n",
    "        if reversed_pair in seen:\n",
    "            symetric.append(pair)\n",
    "        seen.add(pair)\n",
    "    return symetric\n",
    "pairs = [(1, 2), (3, 4), (2, 1), (5, 6), (7, 8), (4, 3)]\n",
    "a=find_symmetric_pairs(pairs)\n",
    "print(a)"
   ]
  },
  {
   "cell_type": "markdown",
   "id": "fbe8590d",
   "metadata": {},
   "source": [
    "# integer is even or odd"
   ]
  },
  {
   "cell_type": "code",
   "execution_count": 25,
   "id": "775dc250",
   "metadata": {},
   "outputs": [
    {
     "name": "stdout",
     "output_type": "stream",
     "text": [
      "odd\n"
     ]
    }
   ],
   "source": [
    "def check(num):\n",
    "    if num % 2 ==0:\n",
    "        print(\"even\")\n",
    "    else:\n",
    "        print(\"odd\")\n",
    "n= 69\n",
    "check(n)"
   ]
  },
  {
   "cell_type": "markdown",
   "id": "e1723e54",
   "metadata": {},
   "source": [
    "# circular_rotate_array\n",
    "rotated_array = arr[n - k:] + arr[:n - k]: This line performs the circular rotation. It concatenates two slices of the array: one starting from n - k index to the end and the other starting from the beginning to n - k index."
   ]
  },
  {
   "cell_type": "code",
   "execution_count": 26,
   "id": "5adf4f0c",
   "metadata": {},
   "outputs": [
    {
     "name": "stdout",
     "output_type": "stream",
     "text": [
      "Original array: [1, 2, 3, 4, 5]\n",
      "Circularly rotated array by 2 positions: [4, 5, 1, 2, 3]\n"
     ]
    }
   ],
   "source": [
    "def circular_rotate_array(arr, k):\n",
    "    n = len(arr)\n",
    "    # If array is empty or k is non-positive, return the original array\n",
    "    if n == 0 or k <= 0:\n",
    "        return arr\n",
    "    \n",
    "    # Normalize k to be within the range [0, n)\n",
    "    k = k % n\n",
    "    \n",
    "    # Perform circular rotation\n",
    "    rotated_array = arr[n - k:] + arr[:n - k]\n",
    "    \n",
    "    return rotated_array\n",
    "\n",
    "# Example usage:\n",
    "arr = [1, 2, 3, 4, 5]\n",
    "k = 2\n",
    "rotated_arr = circular_rotate_array(arr, k)\n",
    "print(\"Original array:\", arr)\n",
    "print(\"Circularly rotated array by\", k, \"positions:\", rotated_arr)\n"
   ]
  },
  {
   "cell_type": "markdown",
   "id": "abfc9003",
   "metadata": {},
   "source": [
    "# custom_sort"
   ]
  },
  {
   "cell_type": "code",
   "execution_count": 27,
   "id": "1592869b",
   "metadata": {},
   "outputs": [
    {
     "name": "stdout",
     "output_type": "stream",
     "text": [
      "Original array: [4, 3, 2, 1, 5]\n",
      "Sorted array according to the order defined by order_arr: [4, 3, 2, 1, 5]\n"
     ]
    }
   ],
   "source": [
    "def custom_sort(arr, order_arr):\n",
    "    # Create a dictionary to store the index of each element in order_arr\n",
    "    index_dict = {val: i for i, val in enumerate(order_arr)}\n",
    "    \n",
    "    # Define a custom sorting function that uses the index from index_dict\n",
    "    def custom_key(elem):\n",
    "        # If elem is in index_dict, return its index; otherwise, return float('inf')\n",
    "        return index_dict.get(elem, float('inf'))\n",
    "    \n",
    "    # Sort the array using the custom sorting function\n",
    "    arr.sort(key=custom_key)\n",
    "    return arr\n",
    "\n",
    "# Example usage:\n",
    "arr = [3, 1, 4, 2, 5]\n",
    "order_arr = [4, 3, 2, 1]\n",
    "sorted_arr = custom_sort(arr, order_arr)\n",
    "print(\"Original array:\", arr)\n",
    "print(\"Sorted array according to the order defined by order_arr:\", sorted_arr)\n"
   ]
  },
  {
   "cell_type": "markdown",
   "id": "83c3fb16",
   "metadata": {},
   "source": [
    "# equilibrium index\n",
    "An equilibrium index in an array is an index where the sum of elements before it is equal to the sum of elements after it. In other words, if you were to split the array into two parts at that index, the sum of elements in the left part would be equal to the sum of elements in the right part.\n",
    "\n"
   ]
  },
  {
   "cell_type": "code",
   "execution_count": 28,
   "id": "84e9b8d8",
   "metadata": {},
   "outputs": [
    {
     "name": "stdout",
     "output_type": "stream",
     "text": [
      "Equilibrium index found at index: 6\n"
     ]
    }
   ],
   "source": [
    "def find_equilibrium_index(arr):\n",
    "    n = len(arr)\n",
    "    \n",
    "    # Calculate the total sum of the array\n",
    "    total_sum = sum(arr)\n",
    "    \n",
    "    # Initialize left_sum to 0\n",
    "    left_sum = 0\n",
    "    \n",
    "    # Iterate through the array\n",
    "    for i in range(n):\n",
    "        # Subtract the current element from the total sum to get the right sum\n",
    "        right_sum = total_sum - arr[i]\n",
    "        \n",
    "        # Check if the left_sum equals the right_sum\n",
    "        if left_sum == right_sum:\n",
    "            return i  # Return the equilibrium index\n",
    "        \n",
    "        # Update left_sum by adding the current element\n",
    "        left_sum += arr[i]\n",
    "    \n",
    "    # If no equilibrium index is found, return -1\n",
    "    return -1\n",
    "\n",
    "# Example usage:\n",
    "arr = [1,5,6,4,3,1,17]\n",
    "equilibrium_index = find_equilibrium_index(arr)\n",
    "if equilibrium_index != -1:\n",
    "    print(\"Equilibrium index found at index:\", equilibrium_index)\n",
    "else:\n",
    "    print(\"No equilibrium index found in the array.\")\n"
   ]
  },
  {
   "cell_type": "markdown",
   "id": "8f782097",
   "metadata": {},
   "source": [
    "# ispalindrome\n",
    "A palindrome number is a number that remains the same when its digits are reversed. For example, 121, 1331, 4444 are all palindrome numbers."
   ]
  },
  {
   "cell_type": "code",
   "execution_count": 29,
   "id": "9d354f47",
   "metadata": {},
   "outputs": [
    {
     "name": "stdout",
     "output_type": "stream",
     "text": [
      "True\n"
     ]
    }
   ],
   "source": [
    "def is_palindrome(num):\n",
    "    num_str=str(num)\n",
    "    return num_str == num_str[::-1]\n",
    "number=12321\n",
    "a=is_palindrome(number)\n",
    "print(a)"
   ]
  },
  {
   "cell_type": "markdown",
   "id": "be7ccf43",
   "metadata": {},
   "source": [
    "# find_palindromes_in_range"
   ]
  },
  {
   "cell_type": "code",
   "execution_count": 30,
   "id": "03e0abb0",
   "metadata": {},
   "outputs": [
    {
     "data": {
      "text/plain": [
       "[101, 111, 121, 131, 141, 151, 161, 171, 181, 191]"
      ]
     },
     "execution_count": 30,
     "metadata": {},
     "output_type": "execute_result"
    }
   ],
   "source": [
    "def ispalindrome(num):\n",
    "    num_str= str(num)\n",
    "    return num_str==num_str[::-1]\n",
    "def find_palindromes_in_range(start,end):\n",
    "    palidrome_number=[]\n",
    "    for num in range(start,end+1):\n",
    "        \n",
    "        if ispalindrome(num):\n",
    "            palidrome_number.append(num)\n",
    "    return palidrome_number\n",
    "s=100\n",
    "e=200\n",
    "d=find_palindromes_in_range(s,e)\n",
    "d"
   ]
  },
  {
   "cell_type": "markdown",
   "id": "c0a014d1",
   "metadata": {},
   "source": [
    "#  prime number range"
   ]
  },
  {
   "cell_type": "code",
   "execution_count": 31,
   "id": "9ce72ade",
   "metadata": {},
   "outputs": [
    {
     "name": "stdout",
     "output_type": "stream",
     "text": [
      "[101, 103, 107, 109, 113, 127, 131, 137, 139, 149, 151, 157, 163, 167, 173, 179, 181, 191, 193, 197, 199]\n"
     ]
    }
   ],
   "source": [
    "#flag = False\n",
    "\n",
    "def isprime(num):\n",
    "    global flag\n",
    "    flag = False  # Reset flag before checking each number\n",
    "    for i in range(2, num):\n",
    "        if num % i == 0:\n",
    "            flag = True\n",
    "            break  # Exit the loop once a divisor is found\n",
    "\n",
    "def prime_range(start, end):\n",
    "    primes = []\n",
    "    for num in range(start, end + 1):\n",
    "        isprime(num)  # Call isprime with the current number\n",
    "        if not flag:\n",
    "            primes.append(num)\n",
    "    return primes\n",
    "\n",
    "start = 100\n",
    "end = 200\n",
    "p = prime_range(start, end)\n",
    "print(p)\n"
   ]
  },
  {
   "cell_type": "code",
   "execution_count": 32,
   "id": "340d53ea",
   "metadata": {},
   "outputs": [
    {
     "name": "stdout",
     "output_type": "stream",
     "text": [
      "Prime\n"
     ]
    }
   ],
   "source": [
    "def is_prime(num):\n",
    "    flag = False\n",
    "    for i in range(2, num):\n",
    "        if num % i == 0:\n",
    "            flag = True\n",
    "            break\n",
    "        \n",
    "    if flag:\n",
    "        return False  # Not a prime number\n",
    "    else:\n",
    "        return True   # Prime number\n",
    "\n",
    "n = 5\n",
    "a = is_prime(n)\n",
    "if a:\n",
    "    print(\"Prime\")\n",
    "else:\n",
    "    print(\"Not a Prime\")\n"
   ]
  },
  {
   "cell_type": "markdown",
   "id": "a8c4f7ad",
   "metadata": {},
   "source": [
    "# reverse"
   ]
  },
  {
   "cell_type": "code",
   "execution_count": 33,
   "id": "18c1b877",
   "metadata": {},
   "outputs": [
    {
     "data": {
      "text/plain": [
       "431"
      ]
     },
     "execution_count": 33,
     "metadata": {},
     "output_type": "execute_result"
    }
   ],
   "source": [
    "def reverse(num):\n",
    "    reverse=0\n",
    "    while num > 0:\n",
    "        rem = num % 10\n",
    "        reverse= reverse*10+rem\n",
    "        num=num//10\n",
    "    return reverse\n",
    "reverse(134)\n",
    "        \n",
    "        "
   ]
  },
  {
   "cell_type": "markdown",
   "id": "53855a84",
   "metadata": {},
   "source": [
    "# armstrong"
   ]
  },
  {
   "cell_type": "code",
   "execution_count": 34,
   "id": "4ebd3e59",
   "metadata": {},
   "outputs": [
    {
     "name": "stdout",
     "output_type": "stream",
     "text": [
      "True\n"
     ]
    }
   ],
   "source": [
    "def armstrong(num):\n",
    "    order = len(str(num))\n",
    "    original = num  # Corrected the assignment operator from '==' to '='\n",
    "    s = 0\n",
    "    while num > 0:\n",
    "        digit = num % 10\n",
    "        s += digit ** order\n",
    "        num //= 10\n",
    "    if s == original:\n",
    "        return True\n",
    "    return False\n",
    "\n",
    "print(armstrong(153))\n"
   ]
  },
  {
   "cell_type": "markdown",
   "id": "60b569ff",
   "metadata": {},
   "source": [
    "# perfect number\n",
    "A perfect number is a positive integer that is equal to the sum of its proper divisors, excluding itself. \n",
    "\n",
    "A classic example of a perfect number is 28. Its divisors are 1, 2, 4, 7, and 14. The sum of these divisors (excluding 28 itself) is 1 + 2 + 4 + 7 + 14 = 28, which equals the number itself.\n",
    "\n"
   ]
  },
  {
   "cell_type": "code",
   "execution_count": 35,
   "id": "dc160c12",
   "metadata": {},
   "outputs": [
    {
     "data": {
      "text/plain": [
       "True"
      ]
     },
     "execution_count": 35,
     "metadata": {},
     "output_type": "execute_result"
    }
   ],
   "source": [
    "def perfect_num(num):\n",
    "    sum=0\n",
    "    for i in range(1,num):\n",
    "        if num % i==0:\n",
    "            sum += i\n",
    "    return sum == num\n",
    "perfect_num(28)"
   ]
  },
  {
   "cell_type": "markdown",
   "id": "4f489479",
   "metadata": {},
   "source": [
    "# odd or even"
   ]
  },
  {
   "cell_type": "code",
   "execution_count": 36,
   "id": "0a83a629",
   "metadata": {},
   "outputs": [
    {
     "data": {
      "text/plain": [
       "'odd'"
      ]
     },
     "execution_count": 36,
     "metadata": {},
     "output_type": "execute_result"
    }
   ],
   "source": [
    "def odd_even(num):\n",
    "    if num % 2==0:\n",
    "        return \"even\"\n",
    "    else:\n",
    "        return \"odd\"\n",
    "odd_even(5)"
   ]
  },
  {
   "cell_type": "markdown",
   "id": "0a1b1e6c",
   "metadata": {},
   "source": [
    "# +ve or -ve"
   ]
  },
  {
   "cell_type": "code",
   "execution_count": 37,
   "id": "ccc1b337",
   "metadata": {},
   "outputs": [
    {
     "name": "stdout",
     "output_type": "stream",
     "text": [
      "45 is positive number\n"
     ]
    }
   ],
   "source": [
    "def check(num):\n",
    "    if num > 0:\n",
    "        print(num, \"is positive number\")\n",
    "    else:\n",
    "        print(num, \"is neag num\")\n",
    "check(45)"
   ]
  },
  {
   "cell_type": "markdown",
   "id": "da274a12",
   "metadata": {},
   "source": [
    "# natural number sum"
   ]
  },
  {
   "cell_type": "code",
   "execution_count": 38,
   "id": "960e323c",
   "metadata": {},
   "outputs": [
    {
     "data": {
      "text/plain": [
       "120"
      ]
     },
     "execution_count": 38,
     "metadata": {},
     "output_type": "execute_result"
    }
   ],
   "source": [
    "def natural_sum(num):\n",
    "    s=0\n",
    "    for i in range(1, num+1):\n",
    "        s += i\n",
    "    return s\n",
    "natural_sum(15)"
   ]
  },
  {
   "cell_type": "code",
   "execution_count": 39,
   "id": "982f0c41",
   "metadata": {},
   "outputs": [
    {
     "data": {
      "text/plain": [
       "15"
      ]
     },
     "execution_count": 39,
     "metadata": {},
     "output_type": "execute_result"
    }
   ],
   "source": [
    "# through recursion\n",
    "def rec_nat_sum(num):\n",
    "    if num <= 0:\n",
    "        return num\n",
    "    else:\n",
    "        return num + rec_nat_sum(num-1)\n",
    "rec_nat_sum(5)    "
   ]
  },
  {
   "cell_type": "markdown",
   "id": "8476f490",
   "metadata": {},
   "source": [
    "# max difference"
   ]
  },
  {
   "cell_type": "code",
   "execution_count": 40,
   "id": "40c2ef94",
   "metadata": {},
   "outputs": [
    {
     "name": "stdout",
     "output_type": "stream",
     "text": [
      "Enter elements of the array separated by commas: 1,2,3,4\n",
      "Maximum difference is 3\n"
     ]
    }
   ],
   "source": [
    "# Python 3 code to find Maximum difference\n",
    "def maxDiff(arr, arr_size):\n",
    "    max_diff = arr[1] - arr[0]\n",
    "    for i in range( arr_size ):\n",
    "        for j in range( i+1, arr_size ):\n",
    "            if(arr[j] - arr[i] > max_diff): \n",
    "                max_diff = arr[j] - arr[i]\n",
    "    return max_diff\n",
    "arr = list(map(int, input(\"Enter elements of the array separated by commas: \").split(',')))\n",
    "\n",
    "size = len(arr)\n",
    "print (\"Maximum difference is\", maxDiff(arr, size))"
   ]
  },
  {
   "cell_type": "markdown",
   "id": "14ed542f",
   "metadata": {},
   "source": [
    "# arthemetics progression"
   ]
  },
  {
   "cell_type": "code",
   "execution_count": 41,
   "id": "f2c3c7e4",
   "metadata": {},
   "outputs": [
    {
     "name": "stdout",
     "output_type": "stream",
     "text": [
      "The 10th term of the arithmetic progression is: 48\n",
      "The sum of the first 10 terms of the arithmetic progression is: 255.0\n"
     ]
    }
   ],
   "source": [
    "def nth_term_of_ap(a, d, n):\n",
    "    \"\"\"Calculate the nth term of an arithmetic progression.\"\"\"\n",
    "    return a + (n - 1) * d\n",
    "\n",
    "def sum_of_ap(a, d, n):\n",
    "    \"\"\"Calculate the sum of the first n terms of an arithmetic progression.\"\"\"\n",
    "    return (n / 2) * (2 * a + (n - 1) * d)\n",
    "\n",
    "# Example usage:\n",
    "a = 3  # First term\n",
    "d = 5  # Common difference\n",
    "n = 10 # Number of terms\n",
    "\n",
    "# Calculate the nth term of the AP\n",
    "nth_term = nth_term_of_ap(a, d, n)\n",
    "print(f\"The {n}th term of the arithmetic progression is: {nth_term}\")\n",
    "\n",
    "# Calculate the sum of the first n terms of the AP\n",
    "sum_of_terms = sum_of_ap(a, d, n)\n",
    "print(f\"The sum of the first {n} terms of the arithmetic progression is: {sum_of_terms}\")\n"
   ]
  },
  {
   "cell_type": "markdown",
   "id": "a0ca6dd0",
   "metadata": {},
   "source": [
    "# swap_without_temp\n",
    "arithmetic swap method"
   ]
  },
  {
   "cell_type": "code",
   "execution_count": 42,
   "id": "303f41cc",
   "metadata": {},
   "outputs": [
    {
     "name": "stdout",
     "output_type": "stream",
     "text": [
      "Before swapping: 10 20 30\n",
      "After swapping: 30 10 20\n"
     ]
    }
   ],
   "source": [
    "def swap_without_temp(a, b, c):\n",
    "    a = a + b + c\n",
    "    b = a - (b + c)\n",
    "    c = a - (b + c)\n",
    "    a = a - (b + c)\n",
    "    return a, b, c\n",
    "\n",
    "# Example usage:\n",
    "x = 10\n",
    "y = 20\n",
    "z = 30\n",
    "\n",
    "print(\"Before swapping:\", x, y, z)\n",
    "x, y, z = swap_without_temp(x, y, z)\n",
    "print(\"After swapping:\", x, y, z)\n"
   ]
  },
  {
   "cell_type": "code",
   "execution_count": 43,
   "id": "175227d8",
   "metadata": {},
   "outputs": [
    {
     "name": "stdout",
     "output_type": "stream",
     "text": [
      "Before swapping: 10 20\n",
      "After swapping: 20 10\n"
     ]
    }
   ],
   "source": [
    "def two_var(a, b):\n",
    "    a = a + b\n",
    "    b = a - b\n",
    "    a = a - b\n",
    "    return a, b\n",
    "\n",
    "a = 10\n",
    "b = 20\n",
    "\n",
    "print(\"Before swapping:\", a, b)\n",
    "a, b = two_var(a, b)\n",
    "print(\"After swapping:\", a, b)\n"
   ]
  },
  {
   "cell_type": "markdown",
   "id": "a4275706",
   "metadata": {},
   "source": [
    "# gp"
   ]
  },
  {
   "cell_type": "code",
   "execution_count": 44,
   "id": "5a5426a2",
   "metadata": {},
   "outputs": [
    {
     "name": "stdout",
     "output_type": "stream",
     "text": [
      "Sum of the first 4 terms of the geometric progression: 80.0\n"
     ]
    }
   ],
   "source": [
    "def sum_of_gp(a, r, n):\n",
    "    return (a * (r ** n - 1)) / (r - 1)\n",
    "\n",
    "# Example usage:\n",
    "a = 2   # First term\n",
    "r = 3   # Common ratio\n",
    "n = 4   # Number of terms\n",
    "\n",
    "sum_gp = sum_of_gp(a, r, n)\n",
    "print(\"Sum of the first\", n, \"terms of the geometric progression:\", sum_gp)\n"
   ]
  },
  {
   "cell_type": "markdown",
   "id": "9ac16dcc",
   "metadata": {},
   "source": [
    "# min_max_digit"
   ]
  },
  {
   "cell_type": "code",
   "execution_count": 45,
   "id": "9f068715",
   "metadata": {},
   "outputs": [
    {
     "data": {
      "text/plain": [
       "(6, 3)"
      ]
     },
     "execution_count": 45,
     "metadata": {},
     "output_type": "execute_result"
    }
   ],
   "source": [
    "def min_max_dig(num):\n",
    "    num=str(num)\n",
    "    max_digit=int(num[0])\n",
    "    min_digit=int(num[0])\n",
    "    for i in num[1:]:\n",
    "        i = int(i)\n",
    "        if i > max_digit:\n",
    "            max_digit = i\n",
    "        if i < min_digit:\n",
    "            min_digit = i\n",
    "    return max_digit, min_digit\n",
    "num= 5545643\n",
    "max_digit,min_digit=min_max_dig(num)\n",
    "max_digit,min_digit  "
   ]
  },
  {
   "cell_type": "markdown",
   "id": "9bc73af0",
   "metadata": {},
   "source": [
    "# power"
   ]
  },
  {
   "cell_type": "code",
   "execution_count": 46,
   "id": "091ce577",
   "metadata": {},
   "outputs": [
    {
     "data": {
      "text/plain": [
       "125"
      ]
     },
     "execution_count": 46,
     "metadata": {},
     "output_type": "execute_result"
    }
   ],
   "source": [
    "def power(num,n):\n",
    "    num = num ** n\n",
    "    return num\n",
    "power(5,3)"
   ]
  },
  {
   "cell_type": "markdown",
   "id": "2bbe8f3f",
   "metadata": {},
   "source": [
    "# factorial"
   ]
  },
  {
   "cell_type": "code",
   "execution_count": 47,
   "id": "37aab043",
   "metadata": {},
   "outputs": [
    {
     "data": {
      "text/plain": [
       "6"
      ]
     },
     "execution_count": 47,
     "metadata": {},
     "output_type": "execute_result"
    }
   ],
   "source": [
    "def fact(num):\n",
    "    for i in range(1, num):\n",
    "        num = num*i\n",
    "    return num\n",
    "fact(3)"
   ]
  },
  {
   "cell_type": "markdown",
   "id": "fbb26c28",
   "metadata": {},
   "source": [
    "# fact with recursion"
   ]
  },
  {
   "cell_type": "code",
   "execution_count": 48,
   "id": "c4642f53",
   "metadata": {},
   "outputs": [
    {
     "name": "stdout",
     "output_type": "stream",
     "text": [
      "6\n"
     ]
    }
   ],
   "source": [
    "def fact(num):\n",
    "    if num == 0:  # Base case: factorial of 0 is 1\n",
    "        return 1\n",
    "    else:\n",
    "        return num * fact(num - 1)\n",
    "\n",
    "print(fact(3))  # Output: 6\n"
   ]
  },
  {
   "cell_type": "markdown",
   "id": "3b39ddc8",
   "metadata": {},
   "source": [
    "# fibonacchi with rec"
   ]
  },
  {
   "cell_type": "code",
   "execution_count": 49,
   "id": "a9d37bf0",
   "metadata": {},
   "outputs": [
    {
     "name": "stdout",
     "output_type": "stream",
     "text": [
      "[0, 1, 1, 2, 3]\n"
     ]
    }
   ],
   "source": [
    "def fib_seq(num):\n",
    "    fib = []\n",
    "    for i in range(num):\n",
    "        fib.append(fibonacci(i))  # Append the ith Fibonacci number, not just i\n",
    "    return fib\n",
    "\n",
    "def fibonacci(num):\n",
    "    if num == 0:\n",
    "        return 0\n",
    "    elif num == 1:\n",
    "        return 1\n",
    "    else:\n",
    "        return fibonacci(num - 1) + fibonacci(num - 2)\n",
    "\n",
    "num = 5\n",
    "print(fib_seq(num))  # Output: [0, 1, 1, 2, 3]\n"
   ]
  },
  {
   "cell_type": "markdown",
   "id": "00d109c1",
   "metadata": {},
   "source": [
    "# fib throu ite"
   ]
  },
  {
   "cell_type": "code",
   "execution_count": 50,
   "id": "31fd19fe",
   "metadata": {},
   "outputs": [
    {
     "name": "stdout",
     "output_type": "stream",
     "text": [
      "[0, 1, 1, 2, 3]\n"
     ]
    }
   ],
   "source": [
    "def fib_to_n(num):\n",
    "    fib_sequence = []\n",
    "    fib_prev = 0\n",
    "    fib_current = 0  # Change initialization to 0\n",
    "    for i in range(num):\n",
    "        fib_sequence.append(fib_current)\n",
    "        if fib_prev == 0 and fib_current == 0:  # Special case for first iteration\n",
    "            fib_current = 1\n",
    "        else:\n",
    "            fib_next = fib_prev + fib_current\n",
    "            fib_prev = fib_current\n",
    "            fib_current = fib_next\n",
    "    return fib_sequence\n",
    "\n",
    "n = 5\n",
    "print(fib_to_n(n))  # Output: [0, 1, 1, 2, 3]\n"
   ]
  },
  {
   "cell_type": "markdown",
   "id": "deb82ed4",
   "metadata": {},
   "source": [
    "# Factors of a Given Number\n",
    "\n",
    "\n"
   ]
  },
  {
   "cell_type": "code",
   "execution_count": 51,
   "id": "14df4f1e",
   "metadata": {},
   "outputs": [
    {
     "name": "stdout",
     "output_type": "stream",
     "text": [
      "1 2 3 6 "
     ]
    }
   ],
   "source": [
    "def Factor(num):\n",
    "    for i in range (1,num+1):\n",
    "        if num % i == 0:\n",
    "            print(i,end=\" \")\n",
    "Factor(6)"
   ]
  },
  {
   "cell_type": "markdown",
   "id": "726f4d3f",
   "metadata": {},
   "source": [
    "# strong number ( strong harshad num)\n",
    "A strong number is a positive integer whose sum of factorials of its digits equals the number itself. "
   ]
  },
  {
   "cell_type": "code",
   "execution_count": 52,
   "id": "365c0396",
   "metadata": {},
   "outputs": [
    {
     "name": "stdout",
     "output_type": "stream",
     "text": [
      "145 is a strong number.\n"
     ]
    }
   ],
   "source": [
    "def factorial(n):\n",
    "    if n == 0:\n",
    "        return 1\n",
    "    else:\n",
    "        return n * factorial(n - 1)\n",
    "\n",
    "def is_strong_number(num):\n",
    "    digit_sum = 0\n",
    "    temp = num\n",
    "    while temp > 0:\n",
    "        digit = temp % 10\n",
    "        digit_sum += factorial(digit)\n",
    "        temp //= 10\n",
    "    return digit_sum == num\n",
    "\n",
    "# Test the function\n",
    "number = 145\n",
    "if is_strong_number(number):\n",
    "    print(number, \"is a strong number.\")\n",
    "else:\n",
    "    print(number, \"is not a strong number.\")\n"
   ]
  },
  {
   "cell_type": "markdown",
   "id": "4e976581",
   "metadata": {},
   "source": [
    "# harshad number\n",
    "A Harshad number (or Niven number) is an integer that is divisible by the sum of its digits"
   ]
  },
  {
   "cell_type": "code",
   "execution_count": 53,
   "id": "15566d90",
   "metadata": {},
   "outputs": [
    {
     "name": "stdout",
     "output_type": "stream",
     "text": [
      "18 is a Harshad number.\n"
     ]
    }
   ],
   "source": [
    "def is_harshad_number(num):\n",
    "    # Calculate the sum of digits\n",
    "    digit_sum = sum(int(digit) for digit in str(num))\n",
    "    # Check if the number is divisible by its digit sum\n",
    "    return num % digit_sum == 0\n",
    "\n",
    "# Test the function\n",
    "number = 18\n",
    "if is_harshad_number(number):\n",
    "    print(number, \"is a Harshad number.\")\n",
    "else:\n",
    "    print(number, \"is not a Harshad number.\")\n"
   ]
  },
  {
   "cell_type": "markdown",
   "id": "bff9e039",
   "metadata": {},
   "source": [
    "# quadratic_eqn"
   ]
  },
  {
   "cell_type": "code",
   "execution_count": 54,
   "id": "0c82140d",
   "metadata": {},
   "outputs": [
    {
     "name": "stdout",
     "output_type": "stream",
     "text": [
      "Roots: (2.0, 1.0)\n"
     ]
    }
   ],
   "source": [
    "def quadratic_eqn(a, b, c):\n",
    "    # Calculate the discriminant\n",
    "    discriminant = b**2 - 4*a*c\n",
    "    \n",
    "    # Check the nature of the roots\n",
    "    if discriminant > 0:\n",
    "        # Two real and distinct roots\n",
    "        root1 = (-b + discriminant**0.5) / (2*a)\n",
    "        root2 = (-b - discriminant**0.5) / (2*a)\n",
    "        # The expression discriminant**0.5 is raising the discriminant to the power of 0.5, which is\n",
    "        #equivalent to taking the square root of the discriminant.\n",
    "\n",
    "\n",
    "        return root1, root2\n",
    "    elif discriminant == 0:\n",
    "        # Two real and identical roots\n",
    "        root = -b / (2*a)\n",
    "        return root, root\n",
    "    else:\n",
    "        # Complex roots\n",
    "        real_part = -b / (2*a)\n",
    "        imag_part = (-discriminant)**0.5 / (2*a)\n",
    "        return (real_part + imag_part * 1j), (real_part - imag_part * 1j)\n",
    "\n",
    "# Test the function\n",
    "a = 1\n",
    "b = -3\n",
    "c = 2\n",
    "roots = quadratic_eqn(a, b, c)\n",
    "print(\"Roots:\", roots)\n"
   ]
  },
  {
   "cell_type": "markdown",
   "id": "13b0f462",
   "metadata": {},
   "source": [
    "# area of circle"
   ]
  },
  {
   "cell_type": "code",
   "execution_count": 55,
   "id": "be84f5a6",
   "metadata": {},
   "outputs": [
    {
     "name": "stdout",
     "output_type": "stream",
     "text": [
      "Area of the circle with radius 5 is: 78.53981633974483\n"
     ]
    }
   ],
   "source": [
    "import math\n",
    "\n",
    "def area_of_circle(radius):\n",
    "    return math.pi * radius**2\n",
    "\n",
    "# Test the function\n",
    "radius = 5\n",
    "area = area_of_circle(radius)\n",
    "print(\"Area of the circle with radius\", radius, \"is:\", area)\n"
   ]
  },
  {
   "cell_type": "markdown",
   "id": "f3e3914c",
   "metadata": {},
   "source": [
    "# hcf\n",
    "\n",
    "HCF stands for \"Highest Common Factor,\" which is also known as the Greatest Common Divisor (GCD).\n",
    "\n"
   ]
  },
  {
   "cell_type": "code",
   "execution_count": 56,
   "id": "17e6768e",
   "metadata": {},
   "outputs": [
    {
     "name": "stdout",
     "output_type": "stream",
     "text": [
      "Enter the first number: 5\n",
      "Enter the second number: 6\n",
      " The hcf will be 1\n"
     ]
    }
   ],
   "source": [
    "a = int(input(\"Enter the first number: \"))\n",
    "b = int(input(\"Enter the second number: \"))\n",
    "if b>a:\n",
    "    mn=a\n",
    "else:\n",
    "    mn=b\n",
    "for i in range(1, mn+1):\n",
    "    if a%i==0 and b%i==0:\n",
    "        hcf=i\n",
    "print(f\" The hcf will be {hcf}\")"
   ]
  },
  {
   "cell_type": "markdown",
   "id": "933a88f5",
   "metadata": {},
   "source": [
    "# lcm"
   ]
  },
  {
   "cell_type": "code",
   "execution_count": 57,
   "id": "2cace431",
   "metadata": {},
   "outputs": [
    {
     "name": "stdout",
     "output_type": "stream",
     "text": [
      "Enter the first number: 2\n",
      "Enter the second number: 4\n",
      "The lcm will be 4\n"
     ]
    }
   ],
   "source": [
    "a = int(input(\"Enter the first number: \"))\n",
    "b = int(input(\"Enter the second number: \"))\n",
    "mx=max(a,b)\n",
    "while mx:   # it will iterate till max\n",
    "    if (mx%a==0 and mx%b==0):\n",
    "        break\n",
    "    mx=mx +1\n",
    "print(f\"The lcm will be {mx}\")"
   ]
  },
  {
   "cell_type": "markdown",
   "id": "2a71c213",
   "metadata": {},
   "source": [
    "# add 2 fraction"
   ]
  },
  {
   "cell_type": "code",
   "execution_count": 58,
   "id": "ba147b1e",
   "metadata": {},
   "outputs": [
    {
     "name": "stdout",
     "output_type": "stream",
     "text": [
      "Result: 17 / 20\n"
     ]
    }
   ],
   "source": [
    "def gcd(a, b):\n",
    "    # Handle case where one of the inputs is zero\n",
    "    if a == 0:\n",
    "        return b\n",
    "    if b == 0:\n",
    "        return a\n",
    "    \n",
    "    # Calculate the greatest common divisor using Euclid's algorithm\n",
    "    mn = min(a, b)\n",
    "    for i in range(1, mn + 1):  # Include mn in the range\n",
    "        if a % i == 0 and b % i == 0:\n",
    "            gcd_value = i\n",
    "    return gcd_value\n",
    "\n",
    "def lcm(a, b):\n",
    "    # Calculate the least common multiple\n",
    "    mx = max(a, b)\n",
    "    while mx:\n",
    "        if mx % a == 0 and mx % b == 0:\n",
    "            return mx  # Return the least common multiple\n",
    "        mx += 1  # Increment mx if the condition is not satisfied\n",
    "\n",
    "\n",
    "def add_fractions(num1, denom1, num2, denom2):\n",
    "    # Find the least common multiple of the denominators\n",
    "    common_denom = lcm(denom1, denom2)\n",
    "    \n",
    "    # Convert both fractions to have the common denominator\n",
    "    new_num1 = num1 * (common_denom // denom1)\n",
    "    new_num2 = num2 * (common_denom // denom2)\n",
    "    \n",
    "    # Add the numerators\n",
    "    result_num = new_num1 + new_num2\n",
    "    \n",
    "    # Simplify the result\n",
    "    common_factor = gcd(result_num, common_denom)\n",
    "    result_num //= common_factor\n",
    "    common_denom //= common_factor\n",
    "    \n",
    "    return result_num, common_denom\n",
    "\n",
    "# Test the function\n",
    "num1, denom1 = 1, 4\n",
    "num2, denom2 = 3, 5\n",
    "result_num, result_denom = add_fractions(num1, denom1, num2, denom2)\n",
    "print(\"Result:\", result_num, \"/\", result_denom)\n"
   ]
  },
  {
   "cell_type": "markdown",
   "id": "e4dd493c",
   "metadata": {},
   "source": [
    "# prime factor"
   ]
  },
  {
   "cell_type": "code",
   "execution_count": 59,
   "id": "4bd98b52",
   "metadata": {},
   "outputs": [
    {
     "name": "stdout",
     "output_type": "stream",
     "text": [
      "Prime factors of 66 are: [2, 3, 11]\n"
     ]
    }
   ],
   "source": [
    "def prime_factors(n):\n",
    "    factors = []\n",
    "    divisor = 2  # Start checking from 2\n",
    "    \n",
    "    while n > 1:\n",
    "        while n % divisor == 0:\n",
    "            factors.append(divisor)\n",
    "            n //= divisor\n",
    "        divisor += 1  # Move to the next potential divisor\n",
    "    \n",
    "    return factors\n",
    "\n",
    "# Test the function\n",
    "number = 66\n",
    "print(\"Prime factors of\", number, \"are:\", prime_factors(number))\n"
   ]
  },
  {
   "cell_type": "markdown",
   "id": "a4a38053",
   "metadata": {},
   "source": [
    "# Convert Binary to Decimal\n",
    "\n",
    "\n"
   ]
  },
  {
   "cell_type": "code",
   "execution_count": 60,
   "id": "42c66526",
   "metadata": {},
   "outputs": [
    {
     "name": "stdout",
     "output_type": "stream",
     "text": [
      "Binary: 1101\n",
      "Decimal: 13\n"
     ]
    }
   ],
   "source": [
    "def binary_to_decimal(binary):\n",
    "    decimal = 0\n",
    "    for digit in binary:\n",
    "        decimal = decimal * 2 + int(digit)\n",
    "    return decimal\n",
    "\n",
    "# Test the function\n",
    "binary_number = \"1101\"\n",
    "decimal_number = binary_to_decimal(binary_number)\n",
    "print(\"Binary:\", binary_number)\n",
    "print(\"Decimal:\", decimal_number)\n",
    "    "
   ]
  },
  {
   "cell_type": "markdown",
   "id": "165e2062",
   "metadata": {},
   "source": [
    "# Count number of vowels, consonants, spaces in String\n",
    "\n",
    "\n"
   ]
  },
  {
   "cell_type": "code",
   "execution_count": 61,
   "id": "d114055a",
   "metadata": {},
   "outputs": [
    {
     "data": {
      "text/plain": [
       "(3, 3, 2)"
      ]
     },
     "execution_count": 61,
     "metadata": {},
     "output_type": "execute_result"
    }
   ],
   "source": [
    "def count_vow_cons_spa(text):\n",
    "    v='aeiouAEIOU'\n",
    "    c='bcdfghjklmnpqrstvwxyzBCDFGHJKLMNPQRSTVWXYZ'\n",
    "    n_v=0\n",
    "    n_c=0\n",
    "    space = 0\n",
    "    for char in text:\n",
    "        if char in v:\n",
    "            n_v+=1\n",
    "        elif char in c:\n",
    "            n_c+=1\n",
    "        elif char == ' ':\n",
    "            space += 1\n",
    "    return n_v,n_c, space\n",
    "count_vow_cons_spa('kite is ')"
   ]
  },
  {
   "cell_type": "markdown",
   "id": "44d8a28d",
   "metadata": {},
   "source": [
    "# aisc\n",
    "ASCII stands for American Standard Code for Information Interchange. It is a character encoding standard used for representing text in computers and other devices that use text. "
   ]
  },
  {
   "cell_type": "code",
   "execution_count": 62,
   "id": "fcdb32a6",
   "metadata": {},
   "outputs": [
    {
     "name": "stdout",
     "output_type": "stream",
     "text": [
      "The ASCII value of b is: 98\n"
     ]
    }
   ],
   "source": [
    "def ascii_value(char):\n",
    "    return ord(char)\n",
    "\n",
    "# Test the function\n",
    "character = 'b'\n",
    "ascii_val = ascii_value(character)\n",
    "print(\"The ASCII value of\", character, \"is:\", ascii_val)\n"
   ]
  },
  {
   "cell_type": "markdown",
   "id": "c885f813",
   "metadata": {},
   "source": [
    "# remove_vowels"
   ]
  },
  {
   "cell_type": "code",
   "execution_count": 63,
   "id": "7671d8d9",
   "metadata": {},
   "outputs": [
    {
     "data": {
      "text/plain": [
       "'bcdf'"
      ]
     },
     "execution_count": 63,
     "metadata": {},
     "output_type": "execute_result"
    }
   ],
   "source": [
    "def remove_vowels(text):\n",
    "    v='aeiouAEIOU'\n",
    "    r=''\n",
    "    for char in text:\n",
    "        if char not in v:\n",
    "            r += char\n",
    "    return r\n",
    "text = \"bcdefa\"\n",
    "remove_vowels(text)\n",
    "    "
   ]
  },
  {
   "cell_type": "markdown",
   "id": "30dbe095",
   "metadata": {},
   "source": [
    "# remove_space"
   ]
  },
  {
   "cell_type": "code",
   "execution_count": 64,
   "id": "0a5040cf",
   "metadata": {},
   "outputs": [
    {
     "data": {
      "text/plain": [
       "'hellomynameisaryan'"
      ]
     },
     "execution_count": 64,
     "metadata": {},
     "output_type": "execute_result"
    }
   ],
   "source": [
    "def remove_space(text):\n",
    "    result = \"\"\n",
    "    v='aeiouAEIOU'\n",
    "    for char in text:\n",
    "        if char != \" \":\n",
    "            result += char\n",
    "    return result\n",
    "text = \"hello my name is aryan\"\n",
    "remove_space(text)"
   ]
  },
  {
   "cell_type": "markdown",
   "id": "cd5b34f1",
   "metadata": {},
   "source": [
    "# reversing a string"
   ]
  },
  {
   "cell_type": "code",
   "execution_count": 65,
   "id": "efb4da1c",
   "metadata": {},
   "outputs": [
    {
     "name": "stdout",
     "output_type": "stream",
     "text": [
      "Original string: hello world\n",
      "Reversed string: dlrow olleh\n"
     ]
    }
   ],
   "source": [
    "def reverse_string_iterative(text):\n",
    "    return text[::-1]\n",
    "\n",
    "# Test the function\n",
    "text = \"hello world\"\n",
    "reversed_text = reverse_string_iterative(text)\n",
    "print(\"Original string:\", text)\n",
    "print(\"Reversed string:\", reversed_text)\n"
   ]
  },
  {
   "cell_type": "markdown",
   "id": "9e4e161b",
   "metadata": {},
   "source": [
    "# reversing a string itterative method"
   ]
  },
  {
   "cell_type": "code",
   "execution_count": 66,
   "id": "b691c9f6",
   "metadata": {},
   "outputs": [
    {
     "data": {
      "text/plain": [
       "'dlrow olleh'"
      ]
     },
     "execution_count": 66,
     "metadata": {},
     "output_type": "execute_result"
    }
   ],
   "source": [
    "def reverse_itterative(text):\n",
    "    char = list(text)\n",
    "    start=0\n",
    "    end = len(char)-1\n",
    "    while start < end:\n",
    "        char[start],char[end]= char[end],char[start]\n",
    "        start += 1\n",
    "        end -=1\n",
    "    return ''.join(char)\n",
    "a = \"hello world\"\n",
    "reverse_itterative(a)"
   ]
  },
  {
   "cell_type": "markdown",
   "id": "88c52b24",
   "metadata": {},
   "source": [
    "# Remove characters from a string except alphabets\n",
    "\n",
    "'a' <= char <= 'z' is a valid comparison in Python. It checks if the character represented by the variable char falls within the ASCII range of lowercase alphabetic characters."
   ]
  },
  {
   "cell_type": "code",
   "execution_count": 67,
   "id": "cc276f10",
   "metadata": {},
   "outputs": [
    {
     "data": {
      "text/plain": [
       "'abc'"
      ]
     },
     "execution_count": 67,
     "metadata": {},
     "output_type": "execute_result"
    }
   ],
   "source": [
    "def remove_character(text):\n",
    "    result =\"\"\n",
    "    for char in text:\n",
    "        if ('a'<=char<='z' or 'A'<= char <= 'Z'):\n",
    "            result += char\n",
    "    return result\n",
    "\n",
    "t = \"a $ bc/\"\n",
    "remove_character(t)\n"
   ]
  },
  {
   "cell_type": "markdown",
   "id": "805178b3",
   "metadata": {},
   "source": [
    "# length of an array"
   ]
  },
  {
   "cell_type": "code",
   "execution_count": 68,
   "id": "47c0251c",
   "metadata": {},
   "outputs": [
    {
     "data": {
      "text/plain": [
       "3"
      ]
     },
     "execution_count": 68,
     "metadata": {},
     "output_type": "execute_result"
    }
   ],
   "source": [
    "def length(arr):\n",
    "    count =0\n",
    "    for i in arr:\n",
    "        count += 1\n",
    "    return count\n",
    "a= [1,2,3]\n",
    "length(a)"
   ]
  },
  {
   "cell_type": "markdown",
   "id": "103cdf4c",
   "metadata": {},
   "source": [
    "# len of string"
   ]
  },
  {
   "cell_type": "code",
   "execution_count": 69,
   "id": "135767b7",
   "metadata": {},
   "outputs": [
    {
     "name": "stdout",
     "output_type": "stream",
     "text": [
      "15\n"
     ]
    }
   ],
   "source": [
    "def len_string(s):\n",
    "    c=0\n",
    "    for _ in s:\n",
    "        c += 1\n",
    "    return c\n",
    "a= \"abc aryan verma\"\n",
    "d=len_string(a)\n",
    "print(d)"
   ]
  },
  {
   "cell_type": "markdown",
   "id": "ca12c361",
   "metadata": {},
   "source": [
    "# are_anagrams"
   ]
  },
  {
   "cell_type": "code",
   "execution_count": 70,
   "id": "fc53e72e",
   "metadata": {},
   "outputs": [
    {
     "name": "stdout",
     "output_type": "stream",
     "text": [
      "Are 'listen' and 'silent' anagrams? True\n",
      "Are 'hello' and 'world' anagrams? False\n"
     ]
    }
   ],
   "source": [
    "def are_anagrams(str1, str2):\n",
    "    # Remove spaces and convert to lowercase for case-insensitive comparison\n",
    "    str1 = str1.replace(\" \", \"\").lower()\n",
    "    str2 = str2.replace(\" \", \"\").lower()\n",
    "    \n",
    "    # Sort the characters in both strings\n",
    "    sorted_str1 = sorted(str1)\n",
    "    sorted_str2 = sorted(str2)\n",
    "    \n",
    "    # Compare the sorted strings\n",
    "    return sorted_str1 == sorted_str2\n",
    "\n",
    "# Test the function\n",
    "string1 = \"listen\"\n",
    "string2 = \"silent\"\n",
    "print(f\"Are '{string1}' and '{string2}' anagrams? {are_anagrams(string1, string2)}\")\n",
    "\n",
    "string3 = \"hello\"\n",
    "string4 = \"world\"\n",
    "print(f\"Are '{string3}' and '{string4}' anagrams? {are_anagrams(string3, string4)}\")\n"
   ]
  },
  {
   "cell_type": "markdown",
   "id": "001e4964",
   "metadata": {},
   "source": [
    "# convert_to_uppercase"
   ]
  },
  {
   "cell_type": "code",
   "execution_count": 71,
   "id": "23328f1f",
   "metadata": {},
   "outputs": [
    {
     "name": "stdout",
     "output_type": "stream",
     "text": [
      "Original string: hello world\n",
      "Uppercase string: HELLO WORLD\n"
     ]
    }
   ],
   "source": [
    "def convert_to_uppercase(text):\n",
    "    return text.upper()\n",
    "\n",
    "# Test the function\n",
    "text = \"hello world\"\n",
    "uppercase_text = convert_to_uppercase(text)\n",
    "print(\"Original string:\", text)\n",
    "print(\"Uppercase string:\", uppercase_text)\n"
   ]
  },
  {
   "cell_type": "markdown",
   "id": "ecd39949",
   "metadata": {},
   "source": [
    "# remove duplicate in string"
   ]
  },
  {
   "cell_type": "code",
   "execution_count": 72,
   "id": "93e8b1fb",
   "metadata": {},
   "outputs": [
    {
     "name": "stdout",
     "output_type": "stream",
     "text": [
      "Original string: hello\n",
      "String after removing duplicates: helo\n"
     ]
    }
   ],
   "source": [
    "def remove_duplicates(input_string):\n",
    "    # Create an empty set to store unique characters\n",
    "    unique_chars = set()\n",
    "    # Create an empty string to store the result\n",
    "    result = \"\"\n",
    "    \n",
    "    # Iterate through each character in the input string\n",
    "    for char in input_string:\n",
    "        # If the character is not already in the set, add it to the set and result string\n",
    "        if char not in unique_chars:\n",
    "            unique_chars.add(char)\n",
    "            result += char\n",
    "    \n",
    "    return result\n",
    "\n",
    "# Example usage:\n",
    "input_string = \"hello\"\n",
    "print(\"Original string:\", input_string)\n",
    "print(\"String after removing duplicates:\", remove_duplicates(input_string))\n"
   ]
  },
  {
   "cell_type": "markdown",
   "id": "b0bcd540",
   "metadata": {},
   "source": [
    "# printing duplicate"
   ]
  },
  {
   "cell_type": "code",
   "execution_count": 73,
   "id": "4c953977",
   "metadata": {},
   "outputs": [
    {
     "name": "stdout",
     "output_type": "stream",
     "text": [
      "Original string: hello\n",
      "Duplicate characters in the string: l\n"
     ]
    }
   ],
   "source": [
    "def print_duplicates(input_string):\n",
    "    # Create an empty set to store unique characters\n",
    "    unique_chars = set()\n",
    "    # Create an empty set to store duplicate characters\n",
    "    duplicates = set()\n",
    "    \n",
    "    # Iterate through each character in the input string\n",
    "    for char in input_string:\n",
    "        # If the character is already in unique_chars, add it to duplicates\n",
    "        if char in unique_chars:\n",
    "            duplicates.add(char)\n",
    "        else:\n",
    "            # Otherwise, add it to unique_chars\n",
    "            unique_chars.add(char)\n",
    "    \n",
    "    # Print each duplicate character only once\n",
    "    if duplicates:\n",
    "        print(\"Duplicate characters in the string:\", \", \".join(duplicates))\n",
    "    else:\n",
    "        print(\"No duplicate characters found in the string.\")\n",
    "\n",
    "# Example usage:\n",
    "input_string = \"hello\"\n",
    "print(\"Original string:\", input_string)\n",
    "print_duplicates(input_string)\n"
   ]
  },
  {
   "cell_type": "markdown",
   "id": "77f1a2e7",
   "metadata": {},
   "source": [
    "# sort of string"
   ]
  },
  {
   "cell_type": "markdown",
   "id": "144d5391",
   "metadata": {},
   "source": [
    "# frequency of string"
   ]
  },
  {
   "cell_type": "code",
   "execution_count": null,
   "id": "ba37c79d",
   "metadata": {},
   "outputs": [],
   "source": []
  }
 ],
 "metadata": {
  "kernelspec": {
   "display_name": "Python 3 (ipykernel)",
   "language": "python",
   "name": "python3"
  },
  "language_info": {
   "codemirror_mode": {
    "name": "ipython",
    "version": 3
   },
   "file_extension": ".py",
   "mimetype": "text/x-python",
   "name": "python",
   "nbconvert_exporter": "python",
   "pygments_lexer": "ipython3",
   "version": "3.9.13"
  }
 },
 "nbformat": 4,
 "nbformat_minor": 5
}
